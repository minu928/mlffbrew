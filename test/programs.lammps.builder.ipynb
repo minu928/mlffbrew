{
 "cells": [
  {
   "cell_type": "code",
   "execution_count": 5,
   "metadata": {},
   "outputs": [
    {
     "name": "stdout",
     "output_type": "stream",
     "text": [
      "Processing /Users/minu/WorkSpace/brew/mlffbrew\n",
      "  Preparing metadata (setup.py) ... \u001b[?25ldone\n",
      "\u001b[?25hRequirement already satisfied: numpy<2.0.0,>=1.22.3 in /Users/minu/miniconda3/envs/mlffbrew/lib/python3.10/site-packages (from mlffbrew==0.0.1) (1.26.4)\n",
      "Requirement already satisfied: atombrew>=0.0.9 in /Users/minu/miniconda3/envs/mlffbrew/lib/python3.10/site-packages (from mlffbrew==0.0.1) (0.0.9)\n",
      "Requirement already satisfied: tqdm>=4.66.4 in /Users/minu/miniconda3/envs/mlffbrew/lib/python3.10/site-packages (from atombrew>=0.0.9->mlffbrew==0.0.1) (4.67.0)\n",
      "Requirement already satisfied: scipy>=1.11.4 in /Users/minu/miniconda3/envs/mlffbrew/lib/python3.10/site-packages (from atombrew>=0.0.9->mlffbrew==0.0.1) (1.14.1)\n",
      "Requirement already satisfied: pandas>=2.1.4 in /Users/minu/miniconda3/envs/mlffbrew/lib/python3.10/site-packages (from atombrew>=0.0.9->mlffbrew==0.0.1) (2.2.3)\n",
      "Requirement already satisfied: python-dateutil>=2.8.2 in /Users/minu/miniconda3/envs/mlffbrew/lib/python3.10/site-packages (from pandas>=2.1.4->atombrew>=0.0.9->mlffbrew==0.0.1) (2.9.0.post0)\n",
      "Requirement already satisfied: pytz>=2020.1 in /Users/minu/miniconda3/envs/mlffbrew/lib/python3.10/site-packages (from pandas>=2.1.4->atombrew>=0.0.9->mlffbrew==0.0.1) (2024.1)\n",
      "Requirement already satisfied: tzdata>=2022.7 in /Users/minu/miniconda3/envs/mlffbrew/lib/python3.10/site-packages (from pandas>=2.1.4->atombrew>=0.0.9->mlffbrew==0.0.1) (2024.2)\n",
      "Requirement already satisfied: six>=1.5 in /Users/minu/miniconda3/envs/mlffbrew/lib/python3.10/site-packages (from python-dateutil>=2.8.2->pandas>=2.1.4->atombrew>=0.0.9->mlffbrew==0.0.1) (1.16.0)\n",
      "Building wheels for collected packages: mlffbrew\n",
      "  Building wheel for mlffbrew (setup.py) ... \u001b[?25ldone\n",
      "\u001b[?25h  Created wheel for mlffbrew: filename=mlffbrew-0.0.1-py3-none-any.whl size=15142 sha256=0e32ce8f23d9f7eff6b7c985bb9a983f1c4d627eeed4af1d204c9e3dab196204\n",
      "  Stored in directory: /private/var/folders/_d/374nct250jj2jkf9xdq10qqr0000gn/T/pip-ephem-wheel-cache-hxaz8yyo/wheels/ca/a1/35/6ac4897190867f916c64adf44ffaeb9946460968cfba18ba79\n",
      "Successfully built mlffbrew\n",
      "Installing collected packages: mlffbrew\n",
      "  Attempting uninstall: mlffbrew\n",
      "    Found existing installation: mlffbrew 0.0.1\n",
      "    Uninstalling mlffbrew-0.0.1:\n",
      "      Successfully uninstalled mlffbrew-0.0.1\n",
      "Successfully installed mlffbrew-0.0.1\n",
      "Note: you may need to restart the kernel to use updated packages.\n",
      "0.0.1\n"
     ]
    }
   ],
   "source": [
    "%pip install ..\n",
    "\n",
    "import mlffbrew\n",
    "from mlffbrew.programs import lammps\n",
    "print(mlffbrew.__version__)"
   ]
  },
  {
   "cell_type": "code",
   "execution_count": 6,
   "metadata": {},
   "outputs": [],
   "source": [
    "from mlffbrew.programs import lammps\n",
    "\n",
    "\n",
    "init = \"../example/trj/H2O64.extxyz\"\n",
    "npt_conditions = {\"temp\": [330, 400, 500], \"pres\": [100, 250], \"init\": [init], \"ensemble\": \"npt\", \"nsteps\": 1000000}\n",
    "nvt_conditions = {\"temp\": [330, 400, 500], \"pres\": [100, 250], \"init\": [init], \"ensemble\": \"nvt\", \"nsteps\": 1000000}\n",
    "nve_conditions = {\"temp\": [330, 400, 500], \"pres\": [100, 250], \"init\": [init], \"ensemble\": \"nve\", \"nsteps\": 1000000}\n",
    "\n",
    "script = \"../example/scripts/in.lammps\"\n",
    "script_data = lammps.scripter.read(script)\n",
    "lammps.builder.build(script, nvt_conditions, workspace=\"tmp/nvt\", exist_ok=True, elements=[\"H\", \"O\"])\n",
    "lammps.builder.build(script, npt_conditions, workspace=\"tmp/npt\", exist_ok=True, elements=[\"H\", \"O\"])\n",
    "lammps.builder.build(script, nve_conditions, workspace=\"tmp/nve\", exist_ok=True, elements=[\"H\", \"O\"])"
   ]
  }
 ],
 "metadata": {
  "kernelspec": {
   "display_name": "mlffbrew",
   "language": "python",
   "name": "python3"
  },
  "language_info": {
   "codemirror_mode": {
    "name": "ipython",
    "version": 3
   },
   "file_extension": ".py",
   "mimetype": "text/x-python",
   "name": "python",
   "nbconvert_exporter": "python",
   "pygments_lexer": "ipython3",
   "version": "3.10.15"
  }
 },
 "nbformat": 4,
 "nbformat_minor": 2
}
