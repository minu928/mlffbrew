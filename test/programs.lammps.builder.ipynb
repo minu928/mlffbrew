{
 "cells": [
  {
   "cell_type": "code",
   "execution_count": null,
   "metadata": {},
   "outputs": [],
   "source": [
    "from mlffbrew.programs import lammps\n",
    "\n",
    "init = \"../example/trj/H2O64.extxyz\"\n",
    "npt_conditions = {\"temp\": [330, 400, 500], \"pres\": [100, 250], \"init\": [init], \"ensemble\": \"npt\", \"nsteps\": 1000000}\n",
    "nvt_conditions = {\"temp\": [330, 400, 500], \"pres\": [100, 250], \"init\": [init], \"ensemble\": \"nvt\", \"nsteps\": 1000000}\n",
    "nve_conditions = {\"temp\": [330, 400, 500], \"pres\": [100, 250], \"init\": [init], \"ensemble\": \"nve\", \"nsteps\": 1000000}\n",
    "\n",
    "script = \"../example/scripts/in.lammps\"\n",
    "script_data = lammps.scripter.read(script)\n",
    "lammps.builder.build(script, nvt_conditions, workspace=\"tmp/nvt\", exist_ok=True, elements=[\"H\", \"O\"])\n",
    "lammps.builder.build(script, npt_conditions, workspace=\"tmp/npt\", exist_ok=True, elements=[\"H\", \"O\"])\n",
    "lammps.builder.build(script, nve_conditions, workspace=\"tmp/nve\", exist_ok=True, elements=[\"H\", \"O\"])"
   ]
  }
 ],
 "metadata": {
  "kernelspec": {
   "display_name": "mlffbrew",
   "language": "python",
   "name": "python3"
  },
  "language_info": {
   "codemirror_mode": {
    "name": "ipython",
    "version": 3
   },
   "file_extension": ".py",
   "mimetype": "text/x-python",
   "name": "python",
   "nbconvert_exporter": "python",
   "pygments_lexer": "ipython3",
   "version": "3.10.15"
  }
 },
 "nbformat": 4,
 "nbformat_minor": 2
}
