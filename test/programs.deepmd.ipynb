{
 "cells": [
  {
   "cell_type": "code",
   "execution_count": null,
   "metadata": {},
   "outputs": [],
   "source": [
    "%pip install ..\n",
    "\n",
    "import mlffbrew\n",
    "print(mlffbrew.__version__)"
   ]
  },
  {
   "cell_type": "code",
   "execution_count": null,
   "metadata": {},
   "outputs": [],
   "source": [
    "from mlffbrew.programs import deepmd\n",
    "\n",
    "\n",
    "script_data = deepmd.default.script_data\n",
    "\n",
    "# Change the validation data\n",
    "deepmd.scripter.modify(script_data, what=dict(systems=[\"./validation_data\"]), head=\"training/validation_data\")\n",
    "# Change the type_map\n",
    "deepmd.scripter.modify(script_data, what=dict(type_map=[\"H\", \"O\"]), head=\"model\")\n",
    "# Change the sel\n",
    "deepmd.scripter.modify(script_data, what=dict(sel=[100, 50]), head=\"model/descriptor\")\n",
    "\n",
    "# * Builder the deepmd folders\n",
    "training_data = [f\"./{i:>06d}.extxyz\" for i in range(8)]\n",
    "\n",
    "deepmd.builder.build(\n",
    "    script=script_data,\n",
    "    training_data=training_data,\n",
    "    workspace=\"./tmp\",\n",
    "    exist_ok=True,\n",
    "    n_ensemble=4,\n",
    ")"
   ]
  }
 ],
 "metadata": {
  "kernelspec": {
   "display_name": "mlffbrew",
   "language": "python",
   "name": "python3"
  },
  "language_info": {
   "codemirror_mode": {
    "name": "ipython",
    "version": 3
   },
   "file_extension": ".py",
   "mimetype": "text/x-python",
   "name": "python",
   "nbconvert_exporter": "python",
   "pygments_lexer": "ipython3",
   "version": "3.10.15"
  }
 },
 "nbformat": 4,
 "nbformat_minor": 2
}
